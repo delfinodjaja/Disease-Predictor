{
  "nbformat": 4,
  "nbformat_minor": 0,
  "metadata": {
    "colab": {
      "provenance": []
    },
    "kernelspec": {
      "name": "python3",
      "display_name": "Python 3"
    },
    "language_info": {
      "name": "python"
    }
  },
  "cells": [
    {
      "cell_type": "code",
      "execution_count": 1,
      "metadata": {
        "id": "5KIjvZTSheBB"
      },
      "outputs": [],
      "source": [
        "import torch\n",
        "import matplotlib.pyplot as plt\n",
        "import numpy as np\n",
        "import pandas as pd\n",
        "import math\n",
        "from sklearn.preprocessing import MultiLabelBinarizer,LabelEncoder\n",
        "from collections import defaultdict\n",
        "from sklearn.model_selection import train_test_split"
      ]
    },
    {
      "cell_type": "markdown",
      "source": [
        "EDA"
      ],
      "metadata": {
        "id": "1fCH6wwpTy7Y"
      }
    },
    {
      "cell_type": "code",
      "source": [
        "df=pd.read_csv('DiseaseAndSymptoms.csv')"
      ],
      "metadata": {
        "id": "OWXGURoHhrIG"
      },
      "execution_count": 2,
      "outputs": []
    },
    {
      "cell_type": "code",
      "source": [
        "df.head()"
      ],
      "metadata": {
        "colab": {
          "base_uri": "https://localhost:8080/",
          "height": 313
        },
        "id": "KDvM3MGiysiK",
        "outputId": "177b957e-13f5-4848-90b2-2533fa7cf525"
      },
      "execution_count": 3,
      "outputs": [
        {
          "output_type": "execute_result",
          "data": {
            "text/plain": [
              "            Disease   Symptom_1              Symptom_2              Symptom_3  \\\n",
              "0  Fungal infection     itching              skin_rash   nodal_skin_eruptions   \n",
              "1  Fungal infection   skin_rash   nodal_skin_eruptions    dischromic _patches   \n",
              "2  Fungal infection     itching   nodal_skin_eruptions    dischromic _patches   \n",
              "3  Fungal infection     itching              skin_rash    dischromic _patches   \n",
              "4  Fungal infection     itching              skin_rash   nodal_skin_eruptions   \n",
              "\n",
              "              Symptom_4 Symptom_5 Symptom_6 Symptom_7 Symptom_8 Symptom_9  \\\n",
              "0   dischromic _patches       NaN       NaN       NaN       NaN       NaN   \n",
              "1                   NaN       NaN       NaN       NaN       NaN       NaN   \n",
              "2                   NaN       NaN       NaN       NaN       NaN       NaN   \n",
              "3                   NaN       NaN       NaN       NaN       NaN       NaN   \n",
              "4                   NaN       NaN       NaN       NaN       NaN       NaN   \n",
              "\n",
              "  Symptom_10 Symptom_11 Symptom_12 Symptom_13 Symptom_14 Symptom_15  \\\n",
              "0        NaN        NaN        NaN        NaN        NaN        NaN   \n",
              "1        NaN        NaN        NaN        NaN        NaN        NaN   \n",
              "2        NaN        NaN        NaN        NaN        NaN        NaN   \n",
              "3        NaN        NaN        NaN        NaN        NaN        NaN   \n",
              "4        NaN        NaN        NaN        NaN        NaN        NaN   \n",
              "\n",
              "  Symptom_16 Symptom_17  \n",
              "0        NaN        NaN  \n",
              "1        NaN        NaN  \n",
              "2        NaN        NaN  \n",
              "3        NaN        NaN  \n",
              "4        NaN        NaN  "
            ],
            "text/html": [
              "\n",
              "  <div id=\"df-3ae45830-1638-4245-93d7-d3a75af5e81b\" class=\"colab-df-container\">\n",
              "    <div>\n",
              "<style scoped>\n",
              "    .dataframe tbody tr th:only-of-type {\n",
              "        vertical-align: middle;\n",
              "    }\n",
              "\n",
              "    .dataframe tbody tr th {\n",
              "        vertical-align: top;\n",
              "    }\n",
              "\n",
              "    .dataframe thead th {\n",
              "        text-align: right;\n",
              "    }\n",
              "</style>\n",
              "<table border=\"1\" class=\"dataframe\">\n",
              "  <thead>\n",
              "    <tr style=\"text-align: right;\">\n",
              "      <th></th>\n",
              "      <th>Disease</th>\n",
              "      <th>Symptom_1</th>\n",
              "      <th>Symptom_2</th>\n",
              "      <th>Symptom_3</th>\n",
              "      <th>Symptom_4</th>\n",
              "      <th>Symptom_5</th>\n",
              "      <th>Symptom_6</th>\n",
              "      <th>Symptom_7</th>\n",
              "      <th>Symptom_8</th>\n",
              "      <th>Symptom_9</th>\n",
              "      <th>Symptom_10</th>\n",
              "      <th>Symptom_11</th>\n",
              "      <th>Symptom_12</th>\n",
              "      <th>Symptom_13</th>\n",
              "      <th>Symptom_14</th>\n",
              "      <th>Symptom_15</th>\n",
              "      <th>Symptom_16</th>\n",
              "      <th>Symptom_17</th>\n",
              "    </tr>\n",
              "  </thead>\n",
              "  <tbody>\n",
              "    <tr>\n",
              "      <th>0</th>\n",
              "      <td>Fungal infection</td>\n",
              "      <td>itching</td>\n",
              "      <td>skin_rash</td>\n",
              "      <td>nodal_skin_eruptions</td>\n",
              "      <td>dischromic _patches</td>\n",
              "      <td>NaN</td>\n",
              "      <td>NaN</td>\n",
              "      <td>NaN</td>\n",
              "      <td>NaN</td>\n",
              "      <td>NaN</td>\n",
              "      <td>NaN</td>\n",
              "      <td>NaN</td>\n",
              "      <td>NaN</td>\n",
              "      <td>NaN</td>\n",
              "      <td>NaN</td>\n",
              "      <td>NaN</td>\n",
              "      <td>NaN</td>\n",
              "      <td>NaN</td>\n",
              "    </tr>\n",
              "    <tr>\n",
              "      <th>1</th>\n",
              "      <td>Fungal infection</td>\n",
              "      <td>skin_rash</td>\n",
              "      <td>nodal_skin_eruptions</td>\n",
              "      <td>dischromic _patches</td>\n",
              "      <td>NaN</td>\n",
              "      <td>NaN</td>\n",
              "      <td>NaN</td>\n",
              "      <td>NaN</td>\n",
              "      <td>NaN</td>\n",
              "      <td>NaN</td>\n",
              "      <td>NaN</td>\n",
              "      <td>NaN</td>\n",
              "      <td>NaN</td>\n",
              "      <td>NaN</td>\n",
              "      <td>NaN</td>\n",
              "      <td>NaN</td>\n",
              "      <td>NaN</td>\n",
              "      <td>NaN</td>\n",
              "    </tr>\n",
              "    <tr>\n",
              "      <th>2</th>\n",
              "      <td>Fungal infection</td>\n",
              "      <td>itching</td>\n",
              "      <td>nodal_skin_eruptions</td>\n",
              "      <td>dischromic _patches</td>\n",
              "      <td>NaN</td>\n",
              "      <td>NaN</td>\n",
              "      <td>NaN</td>\n",
              "      <td>NaN</td>\n",
              "      <td>NaN</td>\n",
              "      <td>NaN</td>\n",
              "      <td>NaN</td>\n",
              "      <td>NaN</td>\n",
              "      <td>NaN</td>\n",
              "      <td>NaN</td>\n",
              "      <td>NaN</td>\n",
              "      <td>NaN</td>\n",
              "      <td>NaN</td>\n",
              "      <td>NaN</td>\n",
              "    </tr>\n",
              "    <tr>\n",
              "      <th>3</th>\n",
              "      <td>Fungal infection</td>\n",
              "      <td>itching</td>\n",
              "      <td>skin_rash</td>\n",
              "      <td>dischromic _patches</td>\n",
              "      <td>NaN</td>\n",
              "      <td>NaN</td>\n",
              "      <td>NaN</td>\n",
              "      <td>NaN</td>\n",
              "      <td>NaN</td>\n",
              "      <td>NaN</td>\n",
              "      <td>NaN</td>\n",
              "      <td>NaN</td>\n",
              "      <td>NaN</td>\n",
              "      <td>NaN</td>\n",
              "      <td>NaN</td>\n",
              "      <td>NaN</td>\n",
              "      <td>NaN</td>\n",
              "      <td>NaN</td>\n",
              "    </tr>\n",
              "    <tr>\n",
              "      <th>4</th>\n",
              "      <td>Fungal infection</td>\n",
              "      <td>itching</td>\n",
              "      <td>skin_rash</td>\n",
              "      <td>nodal_skin_eruptions</td>\n",
              "      <td>NaN</td>\n",
              "      <td>NaN</td>\n",
              "      <td>NaN</td>\n",
              "      <td>NaN</td>\n",
              "      <td>NaN</td>\n",
              "      <td>NaN</td>\n",
              "      <td>NaN</td>\n",
              "      <td>NaN</td>\n",
              "      <td>NaN</td>\n",
              "      <td>NaN</td>\n",
              "      <td>NaN</td>\n",
              "      <td>NaN</td>\n",
              "      <td>NaN</td>\n",
              "      <td>NaN</td>\n",
              "    </tr>\n",
              "  </tbody>\n",
              "</table>\n",
              "</div>\n",
              "    <div class=\"colab-df-buttons\">\n",
              "\n",
              "  <div class=\"colab-df-container\">\n",
              "    <button class=\"colab-df-convert\" onclick=\"convertToInteractive('df-3ae45830-1638-4245-93d7-d3a75af5e81b')\"\n",
              "            title=\"Convert this dataframe to an interactive table.\"\n",
              "            style=\"display:none;\">\n",
              "\n",
              "  <svg xmlns=\"http://www.w3.org/2000/svg\" height=\"24px\" viewBox=\"0 -960 960 960\">\n",
              "    <path d=\"M120-120v-720h720v720H120Zm60-500h600v-160H180v160Zm220 220h160v-160H400v160Zm0 220h160v-160H400v160ZM180-400h160v-160H180v160Zm440 0h160v-160H620v160ZM180-180h160v-160H180v160Zm440 0h160v-160H620v160Z\"/>\n",
              "  </svg>\n",
              "    </button>\n",
              "\n",
              "  <style>\n",
              "    .colab-df-container {\n",
              "      display:flex;\n",
              "      gap: 12px;\n",
              "    }\n",
              "\n",
              "    .colab-df-convert {\n",
              "      background-color: #E8F0FE;\n",
              "      border: none;\n",
              "      border-radius: 50%;\n",
              "      cursor: pointer;\n",
              "      display: none;\n",
              "      fill: #1967D2;\n",
              "      height: 32px;\n",
              "      padding: 0 0 0 0;\n",
              "      width: 32px;\n",
              "    }\n",
              "\n",
              "    .colab-df-convert:hover {\n",
              "      background-color: #E2EBFA;\n",
              "      box-shadow: 0px 1px 2px rgba(60, 64, 67, 0.3), 0px 1px 3px 1px rgba(60, 64, 67, 0.15);\n",
              "      fill: #174EA6;\n",
              "    }\n",
              "\n",
              "    .colab-df-buttons div {\n",
              "      margin-bottom: 4px;\n",
              "    }\n",
              "\n",
              "    [theme=dark] .colab-df-convert {\n",
              "      background-color: #3B4455;\n",
              "      fill: #D2E3FC;\n",
              "    }\n",
              "\n",
              "    [theme=dark] .colab-df-convert:hover {\n",
              "      background-color: #434B5C;\n",
              "      box-shadow: 0px 1px 3px 1px rgba(0, 0, 0, 0.15);\n",
              "      filter: drop-shadow(0px 1px 2px rgba(0, 0, 0, 0.3));\n",
              "      fill: #FFFFFF;\n",
              "    }\n",
              "  </style>\n",
              "\n",
              "    <script>\n",
              "      const buttonEl =\n",
              "        document.querySelector('#df-3ae45830-1638-4245-93d7-d3a75af5e81b button.colab-df-convert');\n",
              "      buttonEl.style.display =\n",
              "        google.colab.kernel.accessAllowed ? 'block' : 'none';\n",
              "\n",
              "      async function convertToInteractive(key) {\n",
              "        const element = document.querySelector('#df-3ae45830-1638-4245-93d7-d3a75af5e81b');\n",
              "        const dataTable =\n",
              "          await google.colab.kernel.invokeFunction('convertToInteractive',\n",
              "                                                    [key], {});\n",
              "        if (!dataTable) return;\n",
              "\n",
              "        const docLinkHtml = 'Like what you see? Visit the ' +\n",
              "          '<a target=\"_blank\" href=https://colab.research.google.com/notebooks/data_table.ipynb>data table notebook</a>'\n",
              "          + ' to learn more about interactive tables.';\n",
              "        element.innerHTML = '';\n",
              "        dataTable['output_type'] = 'display_data';\n",
              "        await google.colab.output.renderOutput(dataTable, element);\n",
              "        const docLink = document.createElement('div');\n",
              "        docLink.innerHTML = docLinkHtml;\n",
              "        element.appendChild(docLink);\n",
              "      }\n",
              "    </script>\n",
              "  </div>\n",
              "\n",
              "\n",
              "<div id=\"df-a76b17e7-b59f-482e-9eb2-569d93d10ef9\">\n",
              "  <button class=\"colab-df-quickchart\" onclick=\"quickchart('df-a76b17e7-b59f-482e-9eb2-569d93d10ef9')\"\n",
              "            title=\"Suggest charts\"\n",
              "            style=\"display:none;\">\n",
              "\n",
              "<svg xmlns=\"http://www.w3.org/2000/svg\" height=\"24px\"viewBox=\"0 0 24 24\"\n",
              "     width=\"24px\">\n",
              "    <g>\n",
              "        <path d=\"M19 3H5c-1.1 0-2 .9-2 2v14c0 1.1.9 2 2 2h14c1.1 0 2-.9 2-2V5c0-1.1-.9-2-2-2zM9 17H7v-7h2v7zm4 0h-2V7h2v10zm4 0h-2v-4h2v4z\"/>\n",
              "    </g>\n",
              "</svg>\n",
              "  </button>\n",
              "\n",
              "<style>\n",
              "  .colab-df-quickchart {\n",
              "      --bg-color: #E8F0FE;\n",
              "      --fill-color: #1967D2;\n",
              "      --hover-bg-color: #E2EBFA;\n",
              "      --hover-fill-color: #174EA6;\n",
              "      --disabled-fill-color: #AAA;\n",
              "      --disabled-bg-color: #DDD;\n",
              "  }\n",
              "\n",
              "  [theme=dark] .colab-df-quickchart {\n",
              "      --bg-color: #3B4455;\n",
              "      --fill-color: #D2E3FC;\n",
              "      --hover-bg-color: #434B5C;\n",
              "      --hover-fill-color: #FFFFFF;\n",
              "      --disabled-bg-color: #3B4455;\n",
              "      --disabled-fill-color: #666;\n",
              "  }\n",
              "\n",
              "  .colab-df-quickchart {\n",
              "    background-color: var(--bg-color);\n",
              "    border: none;\n",
              "    border-radius: 50%;\n",
              "    cursor: pointer;\n",
              "    display: none;\n",
              "    fill: var(--fill-color);\n",
              "    height: 32px;\n",
              "    padding: 0;\n",
              "    width: 32px;\n",
              "  }\n",
              "\n",
              "  .colab-df-quickchart:hover {\n",
              "    background-color: var(--hover-bg-color);\n",
              "    box-shadow: 0 1px 2px rgba(60, 64, 67, 0.3), 0 1px 3px 1px rgba(60, 64, 67, 0.15);\n",
              "    fill: var(--button-hover-fill-color);\n",
              "  }\n",
              "\n",
              "  .colab-df-quickchart-complete:disabled,\n",
              "  .colab-df-quickchart-complete:disabled:hover {\n",
              "    background-color: var(--disabled-bg-color);\n",
              "    fill: var(--disabled-fill-color);\n",
              "    box-shadow: none;\n",
              "  }\n",
              "\n",
              "  .colab-df-spinner {\n",
              "    border: 2px solid var(--fill-color);\n",
              "    border-color: transparent;\n",
              "    border-bottom-color: var(--fill-color);\n",
              "    animation:\n",
              "      spin 1s steps(1) infinite;\n",
              "  }\n",
              "\n",
              "  @keyframes spin {\n",
              "    0% {\n",
              "      border-color: transparent;\n",
              "      border-bottom-color: var(--fill-color);\n",
              "      border-left-color: var(--fill-color);\n",
              "    }\n",
              "    20% {\n",
              "      border-color: transparent;\n",
              "      border-left-color: var(--fill-color);\n",
              "      border-top-color: var(--fill-color);\n",
              "    }\n",
              "    30% {\n",
              "      border-color: transparent;\n",
              "      border-left-color: var(--fill-color);\n",
              "      border-top-color: var(--fill-color);\n",
              "      border-right-color: var(--fill-color);\n",
              "    }\n",
              "    40% {\n",
              "      border-color: transparent;\n",
              "      border-right-color: var(--fill-color);\n",
              "      border-top-color: var(--fill-color);\n",
              "    }\n",
              "    60% {\n",
              "      border-color: transparent;\n",
              "      border-right-color: var(--fill-color);\n",
              "    }\n",
              "    80% {\n",
              "      border-color: transparent;\n",
              "      border-right-color: var(--fill-color);\n",
              "      border-bottom-color: var(--fill-color);\n",
              "    }\n",
              "    90% {\n",
              "      border-color: transparent;\n",
              "      border-bottom-color: var(--fill-color);\n",
              "    }\n",
              "  }\n",
              "</style>\n",
              "\n",
              "  <script>\n",
              "    async function quickchart(key) {\n",
              "      const quickchartButtonEl =\n",
              "        document.querySelector('#' + key + ' button');\n",
              "      quickchartButtonEl.disabled = true;  // To prevent multiple clicks.\n",
              "      quickchartButtonEl.classList.add('colab-df-spinner');\n",
              "      try {\n",
              "        const charts = await google.colab.kernel.invokeFunction(\n",
              "            'suggestCharts', [key], {});\n",
              "      } catch (error) {\n",
              "        console.error('Error during call to suggestCharts:', error);\n",
              "      }\n",
              "      quickchartButtonEl.classList.remove('colab-df-spinner');\n",
              "      quickchartButtonEl.classList.add('colab-df-quickchart-complete');\n",
              "    }\n",
              "    (() => {\n",
              "      let quickchartButtonEl =\n",
              "        document.querySelector('#df-a76b17e7-b59f-482e-9eb2-569d93d10ef9 button');\n",
              "      quickchartButtonEl.style.display =\n",
              "        google.colab.kernel.accessAllowed ? 'block' : 'none';\n",
              "    })();\n",
              "  </script>\n",
              "</div>\n",
              "\n",
              "    </div>\n",
              "  </div>\n"
            ],
            "application/vnd.google.colaboratory.intrinsic+json": {
              "type": "dataframe",
              "variable_name": "df",
              "summary": "{\n  \"name\": \"df\",\n  \"rows\": 4920,\n  \"fields\": [\n    {\n      \"column\": \"Disease\",\n      \"properties\": {\n        \"dtype\": \"category\",\n        \"num_unique_values\": 41,\n        \"samples\": [\n          \"Alcoholic hepatitis\",\n          \"Paralysis (brain hemorrhage)\",\n          \"Gastroenteritis\"\n        ],\n        \"semantic_type\": \"\",\n        \"description\": \"\"\n      }\n    },\n    {\n      \"column\": \"Symptom_1\",\n      \"properties\": {\n        \"dtype\": \"category\",\n        \"num_unique_values\": 34,\n        \"samples\": [\n          \" chest_pain\",\n          \" joint_pain\",\n          \" neck_pain\"\n        ],\n        \"semantic_type\": \"\",\n        \"description\": \"\"\n      }\n    },\n    {\n      \"column\": \"Symptom_2\",\n      \"properties\": {\n        \"dtype\": \"category\",\n        \"num_unique_values\": 48,\n        \"samples\": [\n          \" nausea\",\n          \" stiff_neck\",\n          \" lethargy\"\n        ],\n        \"semantic_type\": \"\",\n        \"description\": \"\"\n      }\n    },\n    {\n      \"column\": \"Symptom_3\",\n      \"properties\": {\n        \"dtype\": \"category\",\n        \"num_unique_values\": 54,\n        \"samples\": [\n          \" dizziness\",\n          \" continuous_feel_of_urine\",\n          \" foul_smell_of urine\"\n        ],\n        \"semantic_type\": \"\",\n        \"description\": \"\"\n      }\n    },\n    {\n      \"column\": \"Symptom_4\",\n      \"properties\": {\n        \"dtype\": \"category\",\n        \"num_unique_values\": 50,\n        \"samples\": [\n          \" diarrhoea\",\n          \" hip_joint_pain\",\n          \" swelling_of_stomach\"\n        ],\n        \"semantic_type\": \"\",\n        \"description\": \"\"\n      }\n    },\n    {\n      \"column\": \"Symptom_5\",\n      \"properties\": {\n        \"dtype\": \"category\",\n        \"num_unique_values\": 38,\n        \"samples\": [\n          \" painful_walking\",\n          \" inflammatory_nails\",\n          \" spotting_ urination\"\n        ],\n        \"semantic_type\": \"\",\n        \"description\": \"\"\n      }\n    },\n    {\n      \"column\": \"Symptom_6\",\n      \"properties\": {\n        \"dtype\": \"category\",\n        \"num_unique_values\": 32,\n        \"samples\": [\n          \" painful_walking\",\n          \" high_fever\",\n          \" swollen_blood_vessels\"\n        ],\n        \"semantic_type\": \"\",\n        \"description\": \"\"\n      }\n    },\n    {\n      \"column\": \"Symptom_7\",\n      \"properties\": {\n        \"dtype\": \"category\",\n        \"num_unique_values\": 26,\n        \"samples\": [\n          \" diarrhoea\",\n          \" breathlessness\",\n          \" yellowing_of_eyes\"\n        ],\n        \"semantic_type\": \"\",\n        \"description\": \"\"\n      }\n    },\n    {\n      \"column\": \"Symptom_8\",\n      \"properties\": {\n        \"dtype\": \"category\",\n        \"num_unique_values\": 21,\n        \"samples\": [\n          \" excessive_hunger\",\n          \" enlarged_thyroid\",\n          \" phlegm\"\n        ],\n        \"semantic_type\": \"\",\n        \"description\": \"\"\n      }\n    },\n    {\n      \"column\": \"Symptom_9\",\n      \"properties\": {\n        \"dtype\": \"category\",\n        \"num_unique_values\": 22,\n        \"samples\": [\n          \" increased_appetite\",\n          \" throat_irritation\",\n          \" diarrhoea\"\n        ],\n        \"semantic_type\": \"\",\n        \"description\": \"\"\n      }\n    },\n    {\n      \"column\": \"Symptom_10\",\n      \"properties\": {\n        \"dtype\": \"category\",\n        \"num_unique_values\": 21,\n        \"samples\": [\n          \" polyuria\",\n          \" depression\",\n          \" fast_heart_rate\"\n        ],\n        \"semantic_type\": \"\",\n        \"description\": \"\"\n      }\n    },\n    {\n      \"column\": \"Symptom_11\",\n      \"properties\": {\n        \"dtype\": \"category\",\n        \"num_unique_values\": 18,\n        \"samples\": [\n          \" red_spots_over_body\",\n          \" back_pain\",\n          \" acute_liver_failure\"\n        ],\n        \"semantic_type\": \"\",\n        \"description\": \"\"\n      }\n    },\n    {\n      \"column\": \"Symptom_12\",\n      \"properties\": {\n        \"dtype\": \"category\",\n        \"num_unique_values\": 11,\n        \"samples\": [\n          \" swelled_lymph_nodes\",\n          \" muscle_pain\",\n          \" abnormal_menstruation\"\n        ],\n        \"semantic_type\": \"\",\n        \"description\": \"\"\n      }\n    },\n    {\n      \"column\": \"Symptom_13\",\n      \"properties\": {\n        \"dtype\": \"category\",\n        \"num_unique_values\": 8,\n        \"samples\": [\n          \" muscle_pain\",\n          \" runny_nose\",\n          \" red_spots_over_body\"\n        ],\n        \"semantic_type\": \"\",\n        \"description\": \"\"\n      }\n    },\n    {\n      \"column\": \"Symptom_14\",\n      \"properties\": {\n        \"dtype\": \"category\",\n        \"num_unique_values\": 4,\n        \"samples\": [\n          \" phlegm\",\n          \" congestion\",\n          \" red_spots_over_body\"\n        ],\n        \"semantic_type\": \"\",\n        \"description\": \"\"\n      }\n    },\n    {\n      \"column\": \"Symptom_15\",\n      \"properties\": {\n        \"dtype\": \"category\",\n        \"num_unique_values\": 3,\n        \"samples\": [\n          \" chest_pain\",\n          \" blood_in_sputum\",\n          \" loss_of_smell\"\n        ],\n        \"semantic_type\": \"\",\n        \"description\": \"\"\n      }\n    },\n    {\n      \"column\": \"Symptom_16\",\n      \"properties\": {\n        \"dtype\": \"category\",\n        \"num_unique_values\": 3,\n        \"samples\": [\n          \" blood_in_sputum\",\n          \" loss_of_smell\",\n          \" muscle_pain\"\n        ],\n        \"semantic_type\": \"\",\n        \"description\": \"\"\n      }\n    },\n    {\n      \"column\": \"Symptom_17\",\n      \"properties\": {\n        \"dtype\": \"category\",\n        \"num_unique_values\": 1,\n        \"samples\": [\n          \" muscle_pain\"\n        ],\n        \"semantic_type\": \"\",\n        \"description\": \"\"\n      }\n    }\n  ]\n}"
            }
          },
          "metadata": {},
          "execution_count": 3
        }
      ]
    },
    {
      "cell_type": "code",
      "source": [
        "df.info()"
      ],
      "metadata": {
        "colab": {
          "base_uri": "https://localhost:8080/"
        },
        "id": "yYmcBnhdVJi8",
        "outputId": "be882a42-b724-4f1f-f9cb-a791c4ed6499"
      },
      "execution_count": 39,
      "outputs": [
        {
          "output_type": "stream",
          "name": "stdout",
          "text": [
            "<class 'pandas.core.frame.DataFrame'>\n",
            "RangeIndex: 4920 entries, 0 to 4919\n",
            "Data columns (total 21 columns):\n",
            " #   Column        Non-Null Count  Dtype \n",
            "---  ------        --------------  ----- \n",
            " 0   Disease       4920 non-null   object\n",
            " 1   Symptom_1     4920 non-null   object\n",
            " 2   Symptom_2     4920 non-null   object\n",
            " 3   Symptom_3     4920 non-null   object\n",
            " 4   Symptom_4     4572 non-null   object\n",
            " 5   Symptom_5     3714 non-null   object\n",
            " 6   Symptom_6     2934 non-null   object\n",
            " 7   Symptom_7     2268 non-null   object\n",
            " 8   Symptom_8     1944 non-null   object\n",
            " 9   Symptom_9     1692 non-null   object\n",
            " 10  Symptom_10    1512 non-null   object\n",
            " 11  Symptom_11    1194 non-null   object\n",
            " 12  Symptom_12    744 non-null    object\n",
            " 13  Symptom_13    504 non-null    object\n",
            " 14  Symptom_14    306 non-null    object\n",
            " 15  Symptom_15    240 non-null    object\n",
            " 16  Symptom_16    192 non-null    object\n",
            " 17  Symptom_17    72 non-null     object\n",
            " 18  symptom       4920 non-null   object\n",
            " 19  symptom_list  4920 non-null   object\n",
            " 20  disease_code  4920 non-null   int64 \n",
            "dtypes: int64(1), object(20)\n",
            "memory usage: 807.3+ KB\n"
          ]
        }
      ]
    },
    {
      "cell_type": "code",
      "source": [
        "df.groupby(['Symptom_1']).size().plot(kind='bar',figsize=(10,10))\n",
        "plt.xticks(rotation=90)"
      ],
      "metadata": {
        "colab": {
          "base_uri": "https://localhost:8080/",
          "height": 1000
        },
        "id": "nc7lOnGyh48R",
        "outputId": "650c4bd7-6f58-4218-ed95-a6772168cafe"
      },
      "execution_count": 4,
      "outputs": [
        {
          "output_type": "execute_result",
          "data": {
            "text/plain": [
              "(array([ 0,  1,  2,  3,  4,  5,  6,  7,  8,  9, 10, 11, 12, 13, 14, 15, 16,\n",
              "        17, 18, 19, 20, 21, 22, 23, 24, 25, 26, 27, 28, 29, 30, 31, 32, 33]),\n",
              " [Text(0, 0, ' acidity'),\n",
              "  Text(1, 0, ' back_pain'),\n",
              "  Text(2, 0, ' bladder_discomfort'),\n",
              "  Text(3, 0, ' breathlessness'),\n",
              "  Text(4, 0, ' burning_micturition'),\n",
              "  Text(5, 0, ' chest_pain'),\n",
              "  Text(6, 0, ' chills'),\n",
              "  Text(7, 0, ' constipation'),\n",
              "  Text(8, 0, ' continuous_sneezing'),\n",
              "  Text(9, 0, ' cough'),\n",
              "  Text(10, 0, ' cramps'),\n",
              "  Text(11, 0, ' fatigue'),\n",
              "  Text(12, 0, ' headache'),\n",
              "  Text(13, 0, ' high_fever'),\n",
              "  Text(14, 0, ' indigestion'),\n",
              "  Text(15, 0, ' joint_pain'),\n",
              "  Text(16, 0, ' mood_swings'),\n",
              "  Text(17, 0, ' muscle_wasting'),\n",
              "  Text(18, 0, ' muscle_weakness'),\n",
              "  Text(19, 0, ' neck_pain'),\n",
              "  Text(20, 0, ' pain_during_bowel_movements'),\n",
              "  Text(21, 0, ' patches_in_throat'),\n",
              "  Text(22, 0, ' pus_filled_pimples'),\n",
              "  Text(23, 0, ' shivering'),\n",
              "  Text(24, 0, ' skin_rash'),\n",
              "  Text(25, 0, ' stiff_neck'),\n",
              "  Text(26, 0, ' stomach_pain'),\n",
              "  Text(27, 0, ' sunken_eyes'),\n",
              "  Text(28, 0, ' vomiting'),\n",
              "  Text(29, 0, ' weakness_in_limbs'),\n",
              "  Text(30, 0, ' weight_gain'),\n",
              "  Text(31, 0, ' weight_loss'),\n",
              "  Text(32, 0, ' yellowish_skin'),\n",
              "  Text(33, 0, 'itching')])"
            ]
          },
          "metadata": {},
          "execution_count": 4
        },
        {
          "output_type": "display_data",
          "data": {
            "text/plain": [
              "<Figure size 1000x1000 with 1 Axes>"
            ],
            "image/png": "[encoded data removed]"
          },
          "metadata": {}
        }
      ]
    },
    {
      "cell_type": "code",
      "source": [
        "label=np.array(df['Disease'].unique())"
      ],
      "metadata": {
        "id": "P48U40aPwrHv"
      },
      "execution_count": 5,
      "outputs": []
    },
    {
      "cell_type": "code",
      "source": [
        "len(df['Disease'].unique())"
      ],
      "metadata": {
        "colab": {
          "base_uri": "https://localhost:8080/"
        },
        "id": "KOIWB28LkUKu",
        "outputId": "0e58a3c0-0c8d-4c33-ded6-3fd8d7a45bf0"
      },
      "execution_count": 6,
      "outputs": [
        {
          "output_type": "execute_result",
          "data": {
            "text/plain": [
              "41"
            ]
          },
          "metadata": {},
          "execution_count": 6
        }
      ]
    },
    {
      "cell_type": "markdown",
      "source": [
        "Preprocessing\n"
      ],
      "metadata": {
        "id": "3aLVVhp0T3Th"
      }
    },
    {
      "cell_type": "code",
      "source": [
        "df['symptom']=df[df.columns[1:]].apply(\n",
        "    lambda row: ', '.join((str(x) for x in row if pd.notna(x))),\n",
        "    axis=1\n",
        ")"
      ],
      "metadata": {
        "id": "H1uN5FFBiJeb"
      },
      "execution_count": 7,
      "outputs": []
    },
    {
      "cell_type": "code",
      "source": [
        "mlb = MultiLabelBinarizer()\n",
        "le = LabelEncoder()\n",
        "df['symptom_list'] = df['symptom'].apply(lambda x: [i.strip().lower() for i in x.split(',') if i.strip() != ''])\n",
        "symptom_ohe = pd.DataFrame(mlb.fit_transform(df['symptom_list']), columns=mlb.classes_)\n",
        "df['disease_code']=le.fit_transform(df['Disease'])\n",
        "better_dummy = pd.concat([df['disease_code'], symptom_ohe], axis=1)"
      ],
      "metadata": {
        "id": "aQKSn7LEyiC7"
      },
      "execution_count": 8,
      "outputs": []
    },
    {
      "cell_type": "code",
      "source": [
        "plt.scatter(better_dummy['disease_code'],better_dummy['chest_pain'])"
      ],
      "metadata": {
        "colab": {
          "base_uri": "https://localhost:8080/",
          "height": 447
        },
        "id": "KcsCw1X31r1j",
        "outputId": "dd5a827f-b4ce-457b-e056-ae539ebb099b"
      },
      "execution_count": 9,
      "outputs": [
        {
          "output_type": "execute_result",
          "data": {
            "text/plain": [
              "<matplotlib.collections.PathCollection at 0x78b07341e750>"
            ]
          },
          "metadata": {},
          "execution_count": 9
        },
        {
          "output_type": "display_data",
          "data": {
            "text/plain": [
              "<Figure size 640x480 with 1 Axes>"
            ],
            "image/png": "[encoded data removed]"
          },
          "metadata": {}
        }
      ]
    },
    {
      "cell_type": "code",
      "source": [
        "better_dummy.head()"
      ],
      "metadata": {
        "colab": {
          "base_uri": "https://localhost:8080/",
          "height": 255
        },
        "id": "AF8ppnuTQB-E",
        "outputId": "4c8897cc-4805-4fb4-8433-b9ae7ad21a84"
      },
      "execution_count": 10,
      "outputs": [
        {
          "output_type": "execute_result",
          "data": {
            "text/plain": [
              "   disease_code  abdominal_pain  abnormal_menstruation  acidity  \\\n",
              "0            15               0                      0        0   \n",
              "1            15               0                      0        0   \n",
              "2            15               0                      0        0   \n",
              "3            15               0                      0        0   \n",
              "4            15               0                      0        0   \n",
              "\n",
              "   acute_liver_failure  altered_sensorium  anxiety  back_pain  belly_pain  \\\n",
              "0                    0                  0        0          0           0   \n",
              "1                    0                  0        0          0           0   \n",
              "2                    0                  0        0          0           0   \n",
              "3                    0                  0        0          0           0   \n",
              "4                    0                  0        0          0           0   \n",
              "\n",
              "   blackheads  ...  vomiting  watering_from_eyes  weakness_in_limbs  \\\n",
              "0           0  ...         0                   0                  0   \n",
              "1           0  ...         0                   0                  0   \n",
              "2           0  ...         0                   0                  0   \n",
              "3           0  ...         0                   0                  0   \n",
              "4           0  ...         0                   0                  0   \n",
              "\n",
              "   weakness_of_one_body_side  weight_gain  weight_loss  yellow_crust_ooze  \\\n",
              "0                          0            0            0                  0   \n",
              "1                          0            0            0                  0   \n",
              "2                          0            0            0                  0   \n",
              "3                          0            0            0                  0   \n",
              "4                          0            0            0                  0   \n",
              "\n",
              "   yellow_urine  yellowing_of_eyes  yellowish_skin  \n",
              "0             0                  0               0  \n",
              "1             0                  0               0  \n",
              "2             0                  0               0  \n",
              "3             0                  0               0  \n",
              "4             0                  0               0  \n",
              "\n",
              "[5 rows x 132 columns]"
            ],
            "text/html": [
              "\n",
              "  <div id=\"df-458caf9c-925e-4b74-a4f4-d384514b2c74\" class=\"colab-df-container\">\n",
              "    <div>\n",
              "<style scoped>\n",
              "    .dataframe tbody tr th:only-of-type {\n",
              "        vertical-align: middle;\n",
              "    }\n",
              "\n",
              "    .dataframe tbody tr th {\n",
              "        vertical-align: top;\n",
              "    }\n",
              "\n",
              "    .dataframe thead th {\n",
              "        text-align: right;\n",
              "    }\n",
              "</style>\n",
              "<table border=\"1\" class=\"dataframe\">\n",
              "  <thead>\n",
              "    <tr style=\"text-align: right;\">\n",
              "      <th></th>\n",
              "      <th>disease_code</th>\n",
              "      <th>abdominal_pain</th>\n",
              "      <th>abnormal_menstruation</th>\n",
              "      <th>acidity</th>\n",
              "      <th>acute_liver_failure</th>\n",
              "      <th>altered_sensorium</th>\n",
              "      <th>anxiety</th>\n",
              "      <th>back_pain</th>\n",
              "      <th>belly_pain</th>\n",
              "      <th>blackheads</th>\n",
              "      <th>...</th>\n",
              "      <th>vomiting</th>\n",
              "      <th>watering_from_eyes</th>\n",
              "      <th>weakness_in_limbs</th>\n",
              "      <th>weakness_of_one_body_side</th>\n",
              "      <th>weight_gain</th>\n",
              "      <th>weight_loss</th>\n",
              "      <th>yellow_crust_ooze</th>\n",
              "      <th>yellow_urine</th>\n",
              "      <th>yellowing_of_eyes</th>\n",
              "      <th>yellowish_skin</th>\n",
              "    </tr>\n",
              "  </thead>\n",
              "  <tbody>\n",
              "    <tr>\n",
              "      <th>0</th>\n",
              "      <td>15</td>\n",
              "      <td>0</td>\n",
              "      <td>0</td>\n",
              "      <td>0</td>\n",
              "      <td>0</td>\n",
              "      <td>0</td>\n",
              "      <td>0</td>\n",
              "      <td>0</td>\n",
              "      <td>0</td>\n",
              "      <td>0</td>\n",
              "      <td>...</td>\n",
              "      <td>0</td>\n",
              "      <td>0</td>\n",
              "      <td>0</td>\n",
              "      <td>0</td>\n",
              "      <td>0</td>\n",
              "      <td>0</td>\n",
              "      <td>0</td>\n",
              "      <td>0</td>\n",
              "      <td>0</td>\n",
              "      <td>0</td>\n",
              "    </tr>\n",
              "    <tr>\n",
              "      <th>1</th>\n",
              "      <td>15</td>\n",
              "      <td>0</td>\n",
              "      <td>0</td>\n",
              "      <td>0</td>\n",
              "      <td>0</td>\n",
              "      <td>0</td>\n",
              "      <td>0</td>\n",
              "      <td>0</td>\n",
              "      <td>0</td>\n",
              "      <td>0</td>\n",
              "      <td>...</td>\n",
              "      <td>0</td>\n",
              "      <td>0</td>\n",
              "      <td>0</td>\n",
              "      <td>0</td>\n",
              "      <td>0</td>\n",
              "      <td>0</td>\n",
              "      <td>0</td>\n",
              "      <td>0</td>\n",
              "      <td>0</td>\n",
              "      <td>0</td>\n",
              "    </tr>\n",
              "    <tr>\n",
              "      <th>2</th>\n",
              "      <td>15</td>\n",
              "      <td>0</td>\n",
              "      <td>0</td>\n",
              "      <td>0</td>\n",
              "      <td>0</td>\n",
              "      <td>0</td>\n",
              "      <td>0</td>\n",
              "      <td>0</td>\n",
              "      <td>0</td>\n",
              "      <td>0</td>\n",
              "      <td>...</td>\n",
              "      <td>0</td>\n",
              "      <td>0</td>\n",
              "      <td>0</td>\n",
              "      <td>0</td>\n",
              "      <td>0</td>\n",
              "      <td>0</td>\n",
              "      <td>0</td>\n",
              "      <td>0</td>\n",
              "      <td>0</td>\n",
              "      <td>0</td>\n",
              "    </tr>\n",
              "    <tr>\n",
              "      <th>3</th>\n",
              "      <td>15</td>\n",
              "      <td>0</td>\n",
              "      <td>0</td>\n",
              "      <td>0</td>\n",
              "      <td>0</td>\n",
              "      <td>0</td>\n",
              "      <td>0</td>\n",
              "      <td>0</td>\n",
              "      <td>0</td>\n",
              "      <td>0</td>\n",
              "      <td>...</td>\n",
              "      <td>0</td>\n",
              "      <td>0</td>\n",
              "      <td>0</td>\n",
              "      <td>0</td>\n",
              "      <td>0</td>\n",
              "      <td>0</td>\n",
              "      <td>0</td>\n",
              "      <td>0</td>\n",
              "      <td>0</td>\n",
              "      <td>0</td>\n",
              "    </tr>\n",
              "    <tr>\n",
              "      <th>4</th>\n",
              "      <td>15</td>\n",
              "      <td>0</td>\n",
              "      <td>0</td>\n",
              "      <td>0</td>\n",
              "      <td>0</td>\n",
              "      <td>0</td>\n",
              "      <td>0</td>\n",
              "      <td>0</td>\n",
              "      <td>0</td>\n",
              "      <td>0</td>\n",
              "      <td>...</td>\n",
              "      <td>0</td>\n",
              "      <td>0</td>\n",
              "      <td>0</td>\n",
              "      <td>0</td>\n",
              "      <td>0</td>\n",
              "      <td>0</td>\n",
              "      <td>0</td>\n",
              "      <td>0</td>\n",
              "      <td>0</td>\n",
              "      <td>0</td>\n",
              "    </tr>\n",
              "  </tbody>\n",
              "</table>\n",
              "<p>5 rows × 132 columns</p>\n",
              "</div>\n",
              "    <div class=\"colab-df-buttons\">\n",
              "\n",
              "  <div class=\"colab-df-container\">\n",
              "    <button class=\"colab-df-convert\" onclick=\"convertToInteractive('df-458caf9c-925e-4b74-a4f4-d384514b2c74')\"\n",
              "            title=\"Convert this dataframe to an interactive table.\"\n",
              "            style=\"display:none;\">\n",
              "\n",
              "  <svg xmlns=\"http://www.w3.org/2000/svg\" height=\"24px\" viewBox=\"0 -960 960 960\">\n",
              "    <path d=\"M120-120v-720h720v720H120Zm60-500h600v-160H180v160Zm220 220h160v-160H400v160Zm0 220h160v-160H400v160ZM180-400h160v-160H180v160Zm440 0h160v-160H620v160ZM180-180h160v-160H180v160Zm440 0h160v-160H620v160Z\"/>\n",
              "  </svg>\n",
              "    </button>\n",
              "\n",
              "  <style>\n",
              "    .colab-df-container {\n",
              "      display:flex;\n",
              "      gap: 12px;\n",
              "    }\n",
              "\n",
              "    .colab-df-convert {\n",
              "      background-color: #E8F0FE;\n",
              "      border: none;\n",
              "      border-radius: 50%;\n",
              "      cursor: pointer;\n",
              "      display: none;\n",
              "      fill: #1967D2;\n",
              "      height: 32px;\n",
              "      padding: 0 0 0 0;\n",
              "      width: 32px;\n",
              "    }\n",
              "\n",
              "    .colab-df-convert:hover {\n",
              "      background-color: #E2EBFA;\n",
              "      box-shadow: 0px 1px 2px rgba(60, 64, 67, 0.3), 0px 1px 3px 1px rgba(60, 64, 67, 0.15);\n",
              "      fill: #174EA6;\n",
              "    }\n",
              "\n",
              "    .colab-df-buttons div {\n",
              "      margin-bottom: 4px;\n",
              "    }\n",
              "\n",
              "    [theme=dark] .colab-df-convert {\n",
              "      background-color: #3B4455;\n",
              "      fill: #D2E3FC;\n",
              "    }\n",
              "\n",
              "    [theme=dark] .colab-df-convert:hover {\n",
              "      background-color: #434B5C;\n",
              "      box-shadow: 0px 1px 3px 1px rgba(0, 0, 0, 0.15);\n",
              "      filter: drop-shadow(0px 1px 2px rgba(0, 0, 0, 0.3));\n",
              "      fill: #FFFFFF;\n",
              "    }\n",
              "  </style>\n",
              "\n",
              "    <script>\n",
              "      const buttonEl =\n",
              "        document.querySelector('#df-458caf9c-925e-4b74-a4f4-d384514b2c74 button.colab-df-convert');\n",
              "      buttonEl.style.display =\n",
              "        google.colab.kernel.accessAllowed ? 'block' : 'none';\n",
              "\n",
              "      async function convertToInteractive(key) {\n",
              "        const element = document.querySelector('#df-458caf9c-925e-4b74-a4f4-d384514b2c74');\n",
              "        const dataTable =\n",
              "          await google.colab.kernel.invokeFunction('convertToInteractive',\n",
              "                                                    [key], {});\n",
              "        if (!dataTable) return;\n",
              "\n",
              "        const docLinkHtml = 'Like what you see? Visit the ' +\n",
              "          '<a target=\"_blank\" href=https://colab.research.google.com/notebooks/data_table.ipynb>data table notebook</a>'\n",
              "          + ' to learn more about interactive tables.';\n",
              "        element.innerHTML = '';\n",
              "        dataTable['output_type'] = 'display_data';\n",
              "        await google.colab.output.renderOutput(dataTable, element);\n",
              "        const docLink = document.createElement('div');\n",
              "        docLink.innerHTML = docLinkHtml;\n",
              "        element.appendChild(docLink);\n",
              "      }\n",
              "    </script>\n",
              "  </div>\n",
              "\n",
              "\n",
              "<div id=\"df-176882b2-f33b-486b-b7a6-dc949871c8dd\">\n",
              "  <button class=\"colab-df-quickchart\" onclick=\"quickchart('df-176882b2-f33b-486b-b7a6-dc949871c8dd')\"\n",
              "            title=\"Suggest charts\"\n",
              "            style=\"display:none;\">\n",
              "\n",
              "<svg xmlns=\"http://www.w3.org/2000/svg\" height=\"24px\"viewBox=\"0 0 24 24\"\n",
              "     width=\"24px\">\n",
              "    <g>\n",
              "        <path d=\"M19 3H5c-1.1 0-2 .9-2 2v14c0 1.1.9 2 2 2h14c1.1 0 2-.9 2-2V5c0-1.1-.9-2-2-2zM9 17H7v-7h2v7zm4 0h-2V7h2v10zm4 0h-2v-4h2v4z\"/>\n",
              "    </g>\n",
              "</svg>\n",
              "  </button>\n",
              "\n",
              "<style>\n",
              "  .colab-df-quickchart {\n",
              "      --bg-color: #E8F0FE;\n",
              "      --fill-color: #1967D2;\n",
              "      --hover-bg-color: #E2EBFA;\n",
              "      --hover-fill-color: #174EA6;\n",
              "      --disabled-fill-color: #AAA;\n",
              "      --disabled-bg-color: #DDD;\n",
              "  }\n",
              "\n",
              "  [theme=dark] .colab-df-quickchart {\n",
              "      --bg-color: #3B4455;\n",
              "      --fill-color: #D2E3FC;\n",
              "      --hover-bg-color: #434B5C;\n",
              "      --hover-fill-color: #FFFFFF;\n",
              "      --disabled-bg-color: #3B4455;\n",
              "      --disabled-fill-color: #666;\n",
              "  }\n",
              "\n",
              "  .colab-df-quickchart {\n",
              "    background-color: var(--bg-color);\n",
              "    border: none;\n",
              "    border-radius: 50%;\n",
              "    cursor: pointer;\n",
              "    display: none;\n",
              "    fill: var(--fill-color);\n",
              "    height: 32px;\n",
              "    padding: 0;\n",
              "    width: 32px;\n",
              "  }\n",
              "\n",
              "  .colab-df-quickchart:hover {\n",
              "    background-color: var(--hover-bg-color);\n",
              "    box-shadow: 0 1px 2px rgba(60, 64, 67, 0.3), 0 1px 3px 1px rgba(60, 64, 67, 0.15);\n",
              "    fill: var(--button-hover-fill-color);\n",
              "  }\n",
              "\n",
              "  .colab-df-quickchart-complete:disabled,\n",
              "  .colab-df-quickchart-complete:disabled:hover {\n",
              "    background-color: var(--disabled-bg-color);\n",
              "    fill: var(--disabled-fill-color);\n",
              "    box-shadow: none;\n",
              "  }\n",
              "\n",
              "  .colab-df-spinner {\n",
              "    border: 2px solid var(--fill-color);\n",
              "    border-color: transparent;\n",
              "    border-bottom-color: var(--fill-color);\n",
              "    animation:\n",
              "      spin 1s steps(1) infinite;\n",
              "  }\n",
              "\n",
              "  @keyframes spin {\n",
              "    0% {\n",
              "      border-color: transparent;\n",
              "      border-bottom-color: var(--fill-color);\n",
              "      border-left-color: var(--fill-color);\n",
              "    }\n",
              "    20% {\n",
              "      border-color: transparent;\n",
              "      border-left-color: var(--fill-color);\n",
              "      border-top-color: var(--fill-color);\n",
              "    }\n",
              "    30% {\n",
              "      border-color: transparent;\n",
              "      border-left-color: var(--fill-color);\n",
              "      border-top-color: var(--fill-color);\n",
              "      border-right-color: var(--fill-color);\n",
              "    }\n",
              "    40% {\n",
              "      border-color: transparent;\n",
              "      border-right-color: var(--fill-color);\n",
              "      border-top-color: var(--fill-color);\n",
              "    }\n",
              "    60% {\n",
              "      border-color: transparent;\n",
              "      border-right-color: var(--fill-color);\n",
              "    }\n",
              "    80% {\n",
              "      border-color: transparent;\n",
              "      border-right-color: var(--fill-color);\n",
              "      border-bottom-color: var(--fill-color);\n",
              "    }\n",
              "    90% {\n",
              "      border-color: transparent;\n",
              "      border-bottom-color: var(--fill-color);\n",
              "    }\n",
              "  }\n",
              "</style>\n",
              "\n",
              "  <script>\n",
              "    async function quickchart(key) {\n",
              "      const quickchartButtonEl =\n",
              "        document.querySelector('#' + key + ' button');\n",
              "      quickchartButtonEl.disabled = true;  // To prevent multiple clicks.\n",
              "      quickchartButtonEl.classList.add('colab-df-spinner');\n",
              "      try {\n",
              "        const charts = await google.colab.kernel.invokeFunction(\n",
              "            'suggestCharts', [key], {});\n",
              "      } catch (error) {\n",
              "        console.error('Error during call to suggestCharts:', error);\n",
              "      }\n",
              "      quickchartButtonEl.classList.remove('colab-df-spinner');\n",
              "      quickchartButtonEl.classList.add('colab-df-quickchart-complete');\n",
              "    }\n",
              "    (() => {\n",
              "      let quickchartButtonEl =\n",
              "        document.querySelector('#df-176882b2-f33b-486b-b7a6-dc949871c8dd button');\n",
              "      quickchartButtonEl.style.display =\n",
              "        google.colab.kernel.accessAllowed ? 'block' : 'none';\n",
              "    })();\n",
              "  </script>\n",
              "</div>\n",
              "\n",
              "    </div>\n",
              "  </div>\n"
            ],
            "application/vnd.google.colaboratory.intrinsic+json": {
              "type": "dataframe",
              "variable_name": "better_dummy"
            }
          },
          "metadata": {},
          "execution_count": 10
        }
      ]
    },
    {
      "cell_type": "code",
      "source": [
        "feature=symptom_ohe.columns\n",
        "label=better_dummy['disease_code'].unique()"
      ],
      "metadata": {
        "id": "KinelROmIDfT"
      },
      "execution_count": 11,
      "outputs": []
    },
    {
      "cell_type": "code",
      "source": [
        "y=np.array(better_dummy['disease_code'])\n",
        "x=np.array(symptom_ohe)"
      ],
      "metadata": {
        "id": "tgddDM9wUMSS"
      },
      "execution_count": 12,
      "outputs": []
    },
    {
      "cell_type": "code",
      "source": [
        "x.shape"
      ],
      "metadata": {
        "colab": {
          "base_uri": "https://localhost:8080/"
        },
        "id": "y0MY9_uILB-X",
        "outputId": "d84218dc-c8fd-46b2-9250-ca6bb58cbe64"
      },
      "execution_count": 13,
      "outputs": [
        {
          "output_type": "execute_result",
          "data": {
            "text/plain": [
              "(4920, 131)"
            ]
          },
          "metadata": {},
          "execution_count": 13
        }
      ]
    },
    {
      "cell_type": "code",
      "source": [
        "y.shape"
      ],
      "metadata": {
        "colab": {
          "base_uri": "https://localhost:8080/"
        },
        "id": "zRdA9jYLLDZk",
        "outputId": "c2b0c973-67d6-4d5b-d52f-60430f4ea246"
      },
      "execution_count": 14,
      "outputs": [
        {
          "output_type": "execute_result",
          "data": {
            "text/plain": [
              "(4920,)"
            ]
          },
          "metadata": {},
          "execution_count": 14
        }
      ]
    },
    {
      "cell_type": "code",
      "source": [
        "xtrain,xtest,ytrain,ytest=train_test_split(x,y,train_size=0.8,test_size=0.2,random_state=42)"
      ],
      "metadata": {
        "id": "DTZjo4KQKQtK"
      },
      "execution_count": 15,
      "outputs": []
    },
    {
      "cell_type": "markdown",
      "source": [
        "Naive Bayes\n",
        "\n"
      ],
      "metadata": {
        "id": "KpQ8ViC0UOZm"
      }
    },
    {
      "cell_type": "code",
      "source": [
        "def prior_probabilty(data):\n",
        "  size=len(data)\n",
        "  prob=dict()\n",
        "  for i in data:\n",
        "    try:\n",
        "      prob[i]+=1\n",
        "    except Exception:\n",
        "      prob[i]=1\n",
        "  prior={cls:count/size for cls,count in prob.items()}\n",
        "  return prior"
      ],
      "metadata": {
        "id": "1tvn-IGiomzv"
      },
      "execution_count": 16,
      "outputs": []
    },
    {
      "cell_type": "code",
      "source": [
        "def likelihoods(x,y,num_feature):\n",
        "  likelihoods = defaultdict(lambda: defaultdict(lambda: defaultdict(int)))\n",
        "  count_label =dict()\n",
        "  for ft,label in zip(x,y):\n",
        "    try:\n",
        "      count_label[label]+=1\n",
        "    except Exception:\n",
        "      count_label[label]=1\n",
        "    for i in range(num_feature):\n",
        "      val=ft[i]\n",
        "      likelihoods[label][i][val]+=1\n",
        "  for label in likelihoods:\n",
        "    for i in range(num_feature):\n",
        "      for val in [0, 1]:\n",
        "          count = likelihoods[label][i][val]\n",
        "          likelihoods[label][i][val] = (count + 1) / (count_label[label] + 2)\n",
        "  return likelihoods"
      ],
      "metadata": {
        "id": "TqgRYn5epzwE"
      },
      "execution_count": 17,
      "outputs": []
    },
    {
      "cell_type": "code",
      "source": [
        "def predict(symptom,prior,likelihood,num_feature):\n",
        "  max_prob = -math.inf\n",
        "  best_class = None\n",
        "  for i in prior:\n",
        "    prob=math.log(prior[i])\n",
        "    for j in range(num_feature):\n",
        "      val=symptom[j]\n",
        "      prob+=math.log(likelihood[i][j][val])\n",
        "    if prob>max_prob:\n",
        "      max_prob=prob\n",
        "      best_class=i\n",
        "  return best_class"
      ],
      "metadata": {
        "id": "wAmCgkMeuqp3"
      },
      "execution_count": 18,
      "outputs": []
    },
    {
      "cell_type": "code",
      "source": [
        "def predict_batch(symptoms, prior, likelihood, num_features):\n",
        "    return [predict(symptom, prior, likelihood, num_features) for symptom in symptoms]"
      ],
      "metadata": {
        "id": "7FzAV7-gOTWk"
      },
      "execution_count": 19,
      "outputs": []
    },
    {
      "cell_type": "code",
      "source": [
        "xtrain,ytrain=xtrain.tolist(),ytrain.tolist()"
      ],
      "metadata": {
        "id": "lsDcZLNwJ5P5"
      },
      "execution_count": 20,
      "outputs": []
    },
    {
      "cell_type": "code",
      "source": [
        "size=x.shape[1]"
      ],
      "metadata": {
        "id": "q1V8_AeJPawU"
      },
      "execution_count": 21,
      "outputs": []
    },
    {
      "cell_type": "code",
      "source": [
        "prior=prior_probabilty(ytrain)\n",
        "likelihoods_dict=likelihoods(xtrain,ytrain,size)"
      ],
      "metadata": {
        "id": "LdMF29K1wQI2"
      },
      "execution_count": 22,
      "outputs": []
    },
    {
      "cell_type": "code",
      "source": [
        "xtest=xtest.tolist()"
      ],
      "metadata": {
        "id": "ZYkr1AF6NnJj"
      },
      "execution_count": 23,
      "outputs": []
    },
    {
      "cell_type": "code",
      "source": [
        "pred=predict_batch(xtest,prior,likelihoods_dict,size)"
      ],
      "metadata": {
        "id": "0PuyxpeJJ8TG"
      },
      "execution_count": 24,
      "outputs": []
    },
    {
      "cell_type": "code",
      "source": [
        "correct = torch.eq(torch.tensor(ytest), torch.tensor(pred)).sum().item()\n",
        "acc = (correct / len(ytest)) * 100"
      ],
      "metadata": {
        "id": "gCBfaOmAO4hq"
      },
      "execution_count": 25,
      "outputs": []
    },
    {
      "cell_type": "code",
      "source": [
        "acc"
      ],
      "metadata": {
        "colab": {
          "base_uri": "https://localhost:8080/"
        },
        "id": "OquCsjOuZs_m",
        "outputId": "b59707a5-9aa1-4d21-fdd4-2a1842768779"
      },
      "execution_count": 26,
      "outputs": [
        {
          "output_type": "execute_result",
          "data": {
            "text/plain": [
              "100.0"
            ]
          },
          "metadata": {},
          "execution_count": 26
        }
      ]
    },
    {
      "cell_type": "markdown",
      "source": [
        "Dynamic prediction"
      ],
      "metadata": {
        "id": "hEVC0zByUTDS"
      }
    },
    {
      "cell_type": "code",
      "source": [
        "def predictv2(symptom, prior, likelihood, num_feature):\n",
        "  probabilities={}\n",
        "  for i in prior:\n",
        "      prob = math.log(prior[i])\n",
        "      for j in range(num_feature):\n",
        "          val = symptom[j]\n",
        "          if val !=-1:\n",
        "              prob +=math.log(likelihood[i][j][val])\n",
        "      probabilities[i]= prob\n",
        "  best_class = max(probabilities, key=probabilities.get)\n",
        "  return best_class, probabilities"
      ],
      "metadata": {
        "id": "dXtT7TWywl4f"
      },
      "execution_count": 27,
      "outputs": []
    },
    {
      "cell_type": "code",
      "source": [
        "def calculate_information_gain(current_state, priors, likelihoods, num_features):\n",
        "  symptoms_asked= [i for i, val in enumerate(current_state) if val != -1]\n",
        "\n",
        "  best_gain=-float('inf')\n",
        "  best_feature=None\n",
        "  for feature in range(num_features):\n",
        "      if feature in symptoms_asked:\n",
        "          continue\n",
        "      entropy_before=calculate_entropy(current_state, priors, likelihoods, num_features)\n",
        "\n",
        "      entropy_after=0\n",
        "      for val in [0, 1]:\n",
        "          temp_state = current_state.copy()\n",
        "          temp_state[feature] = val\n",
        "          p_val = estimate_feature_probability(feature, val, current_state, priors, likelihoods, num_features)\n",
        "          entropy_after +=p_val * calculate_entropy(temp_state, priors, likelihoods, num_features)\n",
        "\n",
        "      gain = entropy_before - entropy_after\n",
        "\n",
        "      if gain > best_gain:\n",
        "          best_gain=gain\n",
        "          best_feature=feature\n",
        "\n",
        "  return best_feature"
      ],
      "metadata": {
        "id": "gPOITaa074mN"
      },
      "execution_count": 28,
      "outputs": []
    },
    {
      "cell_type": "code",
      "source": [
        "def calculate_entropy(state, priors, likelihoods, num_features):\n",
        "  probabilities=get_disease_probabilities(state, priors, likelihoods, num_features)\n",
        "  entropy = 0\n",
        "  for p in probabilities.values():\n",
        "      if p > 0:\n",
        "          entropy -= p * math.log(p)\n",
        "  return entropy"
      ],
      "metadata": {
        "id": "QHD_TDnd79MG"
      },
      "execution_count": 29,
      "outputs": []
    },
    {
      "cell_type": "code",
      "source": [
        "def get_disease_probabilities(state, priors, likelihoods, num_features):\n",
        "  unnormalized={}\n",
        "  for disease in priors:\n",
        "      prob = math.log(priors[disease])\n",
        "      for feature in range(num_features):\n",
        "          val = state[feature]\n",
        "          if val != -1:\n",
        "              prob += math.log(likelihoods[disease][feature][val])\n",
        "      unnormalized[disease] = math.exp(prob)\n",
        "\n",
        "  total=sum(unnormalized.values())\n",
        "  return {disease: p/total for disease, p in unnormalized.items()}"
      ],
      "metadata": {
        "id": "ExDJeZRC8Di5"
      },
      "execution_count": 30,
      "outputs": []
    },
    {
      "cell_type": "code",
      "source": [
        "def estimate_feature_probability(feature, value, state, priors, likelihoods, num_features):\n",
        "  probs = get_disease_probabilities(state, priors, likelihoods, num_features)\n",
        "  p_feature_val = 0\n",
        "  for disease, prob in probs.items():\n",
        "      p_feature_val += prob * likelihoods[disease][feature][value]\n",
        "  return p_feature_val"
      ],
      "metadata": {
        "id": "YyAH7V5T8JsP"
      },
      "execution_count": 31,
      "outputs": []
    },
    {
      "cell_type": "code",
      "source": [
        "def run(symptom_names, priors, likelihoods, num_features):\n",
        "  current_state=[-1] * num_features\n",
        "  asked_questions = 0\n",
        "  max_questions = 20\n",
        "\n",
        "\n",
        "  while asked_questions < max_questions:\n",
        "      disease_probs=get_disease_probabilities(current_state, priors, likelihoods, num_features)\n",
        "\n",
        "      most_likely_disease = max(disease_probs, key=disease_probs.get)\n",
        "      confidence = disease_probs[most_likely_disease]\n",
        "\n",
        "      if confidence > 0.8:\n",
        "          break\n",
        "\n",
        "      next_feature=calculate_information_gain(current_state, priors, likelihoods, num_features)\n",
        "\n",
        "      if next_feature is None:\n",
        "          break\n",
        "\n",
        "      response=input(f\"Do you have {symptom_names[next_feature]}? (yes/no): \").lower()\n",
        "\n",
        "      if response==\"yes\":\n",
        "          current_state[next_feature] = 1\n",
        "      elif response==\"no\":\n",
        "          current_state[next_feature] = 0\n",
        "      else:\n",
        "          print(\"Please answer with 'yes' or 'no'.\")\n",
        "          continue\n",
        "\n",
        "      asked_questions+=1\n",
        "\n",
        "      print(f\"\\nBased on your answers so far, I'm {confidence*100:.1f}% confident patient might have {le.inverse_transform([most_likely_disease])}.\")\n",
        "      if asked_questions < max_questions:\n",
        "          print(\"Let me ask another question to be more certain.\\n\")\n",
        "\n",
        "  final_diagnosis,_ = predictv2(current_state, priors, likelihoods, num_features)\n",
        "  probability = disease_probs[final_diagnosis] * 100\n",
        "\n",
        "  print(\"\\n=== Diagnosis Result ===\")\n",
        "  print(f\"Based on your symptoms, I believe patient have: {le.inverse_transform([final_diagnosis])}\")\n",
        "  print(f\"Confidence: {probability:.1f}%\")\n",
        "\n",
        "  return final_diagnosis, probability"
      ],
      "metadata": {
        "id": "dsN_gsPh8OJ0"
      },
      "execution_count": 36,
      "outputs": []
    },
    {
      "cell_type": "code",
      "source": [
        "run(feature,prior,likelihoods_dict,size)"
      ],
      "metadata": {
        "colab": {
          "base_uri": "https://localhost:8080/"
        },
        "id": "P2Mevk6ywwJq",
        "outputId": "758ca7bc-06de-4286-fa38-3b73d105a232"
      },
      "execution_count": 38,
      "outputs": [
        {
          "output_type": "stream",
          "name": "stdout",
          "text": [
            "Do you have fatigue? (yes/no): yes\n",
            "\n",
            "Based on your answers so far, I'm 2.7% confident patient might have ['Chronic cholestasis'].\n",
            "Let me ask another question to be more certain.\n",
            "\n",
            "Do you have loss_of_appetite? (yes/no): no\n",
            "\n",
            "Based on your answers so far, I'm 6.4% confident patient might have ['Typhoid'].\n",
            "Let me ask another question to be more certain.\n",
            "\n",
            "Do you have high_fever? (yes/no): yes\n",
            "\n",
            "Based on your answers so far, I'm 10.6% confident patient might have ['Typhoid'].\n",
            "Let me ask another question to be more certain.\n",
            "\n",
            "Do you have chest_pain? (yes/no): no\n",
            "\n",
            "Based on your answers so far, I'm 22.3% confident patient might have ['Typhoid'].\n",
            "Let me ask another question to be more certain.\n",
            "\n",
            "Do you have chills? (yes/no): yes\n",
            "\n",
            "Based on your answers so far, I'm 35.6% confident patient might have ['Typhoid'].\n",
            "Let me ask another question to be more certain.\n",
            "\n",
            "\n",
            "=== Diagnosis Result ===\n",
            "Based on your symptoms, I believe patient have: ['Typhoid']\n",
            "Confidence: 95.0%\n"
          ]
        },
        {
          "output_type": "execute_result",
          "data": {
            "text/plain": [
              "(37, 94.98440255818377)"
            ]
          },
          "metadata": {},
          "execution_count": 38
        }
      ]
    }
  ]
}